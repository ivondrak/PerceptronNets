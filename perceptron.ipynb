{
 "cells": [
  {
   "cell_type": "markdown",
   "metadata": {},
   "source": [
    "## Perceptron\n",
    "### **m** input features and **n** output results"
   ]
  },
  {
   "cell_type": "markdown",
   "metadata": {},
   "source": [
    "### Import modules"
   ]
  },
  {
   "cell_type": "code",
   "execution_count": 1,
   "metadata": {
    "ExecuteTime": {
     "end_time": "2024-03-05T14:59:44.079591Z",
     "start_time": "2024-03-05T14:59:43.133074Z"
    }
   },
   "outputs": [],
   "source": [
    "import numpy as np\n",
    "import pandas as pd\n",
    "from perceptron import Perceptron"
   ]
  },
  {
   "cell_type": "markdown",
   "metadata": {},
   "source": [
    "### Define training set for wines evaluation\n",
    "* Feature 1: sweetness of the wine\n",
    "* Feature 2: acidity of the wine\n",
    "* Feature 3: power of wine\n",
    "\n",
    "Result: 1 good 0 not good"
   ]
  },
  {
   "cell_type": "code",
   "execution_count": 2,
   "metadata": {},
   "outputs": [],
   "source": [
    "training_set = [\n",
    "    ([0.0, 1.0, 1.0], [0.0]),\n",
    "    ([1.0, 0.0, 0.0], [1.0]),\n",
    "    ([0.5, 0.5, 0.5], [1.0])\n",
    "]"
   ]
  },
  {
   "cell_type": "markdown",
   "metadata": {},
   "source": [
    "### Perceptron learning\n"
   ]
  },
  {
   "cell_type": "code",
   "execution_count": 3,
   "metadata": {
    "ExecuteTime": {
     "end_time": "2024-03-05T14:59:44.202358Z",
     "start_time": "2024-03-05T14:59:44.108139Z"
    }
   },
   "outputs": [
    {
     "name": "stdout",
     "output_type": "stream",
     "text": [
      "Initial weights: \n",
      " [[-0.86462607 -0.60769247 -0.49756737 -0.06927532]]\n",
      "Learnt weights: \n",
      " [[-0.86462607 -0.30769247 -0.79756737 -0.36927532]]\n"
     ]
    }
   ],
   "source": [
    "perceptron = Perceptron(training_set, 1000)\n",
    "print(\"Initial weights: \\n\", perceptron.weights)\n",
    "perceptron.learning()\n",
    "print(\"Learnt weights: \\n\", perceptron.weights)\n"
   ]
  },
  {
   "cell_type": "markdown",
   "metadata": {},
   "source": [
    "### Define input vector and run perceptron"
   ]
  },
  {
   "cell_type": "code",
   "execution_count": 4,
   "metadata": {
    "ExecuteTime": {
     "end_time": "2024-03-05T14:59:44.226390Z",
     "start_time": "2024-03-05T14:59:44.213790Z"
    }
   },
   "outputs": [
    {
     "name": "stdout",
     "output_type": "stream",
     "text": [
      "Output for  [1.0, 0.0, 0.0]  is  [1]\n"
     ]
    }
   ],
   "source": [
    "net_input = [1.0, 0.0, 0.0]\n",
    "output = perceptron.run([net_input])\n",
    "print(\"Output for \", net_input, \" is \", output)"
   ]
  },
  {
   "cell_type": "markdown",
   "metadata": {},
   "source": [
    "### Save weight matrix on the disk"
   ]
  },
  {
   "cell_type": "code",
   "execution_count": 5,
   "metadata": {
    "ExecuteTime": {
     "end_time": "2024-03-05T14:59:44.238754Z",
     "start_time": "2024-03-05T14:59:44.230500Z"
    }
   },
   "outputs": [],
   "source": [
    "np.save('weight_matrix', perceptron.weights)"
   ]
  },
  {
   "cell_type": "markdown",
   "metadata": {},
   "source": [
    "### Create new perceptron net a set its weights from disk"
   ]
  },
  {
   "cell_type": "code",
   "execution_count": 6,
   "metadata": {
    "ExecuteTime": {
     "end_time": "2024-03-05T14:59:44.249913Z",
     "start_time": "2024-03-05T14:59:44.240890Z"
    }
   },
   "outputs": [
    {
     "name": "stdout",
     "output_type": "stream",
     "text": [
      "Initial weights: \n",
      " [[-1.91735421  0.15858829  0.31831874 -0.21528747]]\n",
      "Learnt weights: \n",
      " [[-0.86462607 -0.30769247 -0.79756737 -0.36927532]]\n"
     ]
    }
   ],
   "source": [
    "perceptron = Perceptron(training_set, 1000)\n",
    "print(\"Initial weights: \\n\", perceptron.weights)\n",
    "perceptron.weights = np.load('weight_matrix.npy')\n",
    "print(\"Learnt weights: \\n\", perceptron.weights)"
   ]
  },
  {
   "cell_type": "markdown",
   "metadata": {},
   "source": [
    "### Using Excel Table to define training set"
   ]
  },
  {
   "cell_type": "markdown",
   "metadata": {},
   "source": [
    "### Wines Excel file"
   ]
  },
  {
   "cell_type": "code",
   "execution_count": 7,
   "metadata": {
    "ExecuteTime": {
     "end_time": "2024-03-05T14:59:44.464706Z",
     "start_time": "2024-03-05T14:59:44.258825Z"
    }
   },
   "outputs": [
    {
     "data": {
      "text/plain": [
       "[([0.0, 1.0, 1.0], [0.0]), ([1.0, 0.0, 0.0], [1.0]), ([0.5, 0.5, 0.5], [1.0])]"
      ]
     },
     "execution_count": 7,
     "metadata": {},
     "output_type": "execute_result"
    }
   ],
   "source": [
    "data = pd.read_excel('wines.xlsx')\n",
    "data.head()\n",
    "training_set = []\n",
    "for index, row in data.iterrows():\n",
    "    features = [row['Sweetness'], row['Acidity'], row['Power']]\n",
    "    result = [row['Good']]\n",
    "    training_set.append((features, result))\n",
    "#print(\"Transformations: \", training_set)\n",
    "training_set\n",
    "\n"
   ]
  },
  {
   "cell_type": "markdown",
   "metadata": {},
   "source": [
    "### Diagnosis learning verification\n",
    "\n",
    "Training set consist of several patients, where symptoms are associates with diagnosis. The goal is to learn from this examples."
   ]
  },
  {
   "cell_type": "code",
   "execution_count": 8,
   "metadata": {
    "ExecuteTime": {
     "end_time": "2024-03-05T14:59:44.576122Z",
     "start_time": "2024-03-05T14:59:44.467931Z"
    }
   },
   "outputs": [
    {
     "name": "stdout",
     "output_type": "stream",
     "text": [
      "Input:  [0.0, 0.5, 0.5, 0.0, 0.0]  Output:  [0, 0, 1]\n",
      "Input:  [1.0, 1.0, 1.0, 1.0, 0.0]  Output:  [0, 1, 0]\n",
      "Input:  [0.5, 1.0, 0.0, 1.0, 1.0]  Output:  [1, 0, 0]\n",
      "Input:  [0.0, 0.5, 0.0, 0.0, 0.0]  Output:  [0, 0, 1]\n",
      "Input:  [1.0, 0.5, 1.0, 0.5, 0.0]  Output:  [0, 1, 0]\n",
      "Input:  [1.0, 1.0, 0.0, 0.5, 0.5]  Output:  [1, 0, 0]\n"
     ]
    }
   ],
   "source": [
    "data = pd.read_excel('diagnosis.xlsx')\n",
    "data.head()\n",
    "training_set = []\n",
    "for index, row in data.iterrows():\n",
    "    features = [row['Fever'], row['Cough'], row['Headache'], row['Tiredness'], row['Night Sweat']]\n",
    "    result = [row['Pneumonia'], row['Flu'], row['Cold']]\n",
    "    training_set.append((features, result))\n",
    "\n",
    "perceptron = Perceptron(training_set, 1000)\n",
    "perceptron.learning()\n",
    "\n",
    "for row in training_set:\n",
    "    net_input = row[0]\n",
    "    net_output = perceptron.run(net_input)\n",
    "    print(\"Input: \", net_input, \" Output: \", net_output)\n",
    "\n",
    "header = list(data.columns)\n",
    " "
   ]
  },
  {
   "cell_type": "markdown",
   "metadata": {},
   "source": [
    "### Usage of diagnosis app\n",
    "Input data are read from excel file and diagosis is inferred from the learnt net o perceptrons."
   ]
  },
  {
   "cell_type": "code",
   "execution_count": 9,
   "metadata": {
    "ExecuteTime": {
     "end_time": "2024-03-05T14:59:44.604513Z",
     "start_time": "2024-03-05T14:59:44.576914Z"
    }
   },
   "outputs": [
    {
     "name": "stdout",
     "output_type": "stream",
     "text": [
      "Input:  [0.0, 0.5, 0.0, 0.0, 0.0]  Output:  [0, 0, 1]\n",
      "Input:  [1.0, 1.0, 1.0, 1.0, 0.0]  Output:  [0, 1, 0]\n",
      "Input:  [0.5, 1.0, 0.0, 1.0, 1.0]  Output:  [1, 0, 0]\n",
      "Input:  [1.0, 0.5, 0.5, 0.5, 0.0]  Output:  [0, 0, 0]\n",
      "Input:  [0.0, 0.5, 0.0, 0.2, 0.0]  Output:  [0, 0, 1]\n"
     ]
    },
    {
     "data": {
      "text/html": [
       "<div>\n",
       "<style scoped>\n",
       "    .dataframe tbody tr th:only-of-type {\n",
       "        vertical-align: middle;\n",
       "    }\n",
       "\n",
       "    .dataframe tbody tr th {\n",
       "        vertical-align: top;\n",
       "    }\n",
       "\n",
       "    .dataframe thead th {\n",
       "        text-align: right;\n",
       "    }\n",
       "</style>\n",
       "<table border=\"1\" class=\"dataframe\">\n",
       "  <thead>\n",
       "    <tr style=\"text-align: right;\">\n",
       "      <th></th>\n",
       "      <th>Fever</th>\n",
       "      <th>Cough</th>\n",
       "      <th>Headache</th>\n",
       "      <th>Tiredness</th>\n",
       "      <th>Night Sweat</th>\n",
       "      <th>Pneumonia</th>\n",
       "      <th>Flu</th>\n",
       "      <th>Cold</th>\n",
       "    </tr>\n",
       "  </thead>\n",
       "  <tbody>\n",
       "    <tr>\n",
       "      <th>0</th>\n",
       "      <td>0.0</td>\n",
       "      <td>0.5</td>\n",
       "      <td>0.0</td>\n",
       "      <td>0.0</td>\n",
       "      <td>0.0</td>\n",
       "      <td>0.0</td>\n",
       "      <td>0.0</td>\n",
       "      <td>1.0</td>\n",
       "    </tr>\n",
       "    <tr>\n",
       "      <th>1</th>\n",
       "      <td>1.0</td>\n",
       "      <td>1.0</td>\n",
       "      <td>1.0</td>\n",
       "      <td>1.0</td>\n",
       "      <td>0.0</td>\n",
       "      <td>0.0</td>\n",
       "      <td>1.0</td>\n",
       "      <td>0.0</td>\n",
       "    </tr>\n",
       "    <tr>\n",
       "      <th>2</th>\n",
       "      <td>0.5</td>\n",
       "      <td>1.0</td>\n",
       "      <td>0.0</td>\n",
       "      <td>1.0</td>\n",
       "      <td>1.0</td>\n",
       "      <td>1.0</td>\n",
       "      <td>0.0</td>\n",
       "      <td>0.0</td>\n",
       "    </tr>\n",
       "    <tr>\n",
       "      <th>3</th>\n",
       "      <td>1.0</td>\n",
       "      <td>0.5</td>\n",
       "      <td>0.5</td>\n",
       "      <td>0.5</td>\n",
       "      <td>0.0</td>\n",
       "      <td>0.0</td>\n",
       "      <td>0.0</td>\n",
       "      <td>0.0</td>\n",
       "    </tr>\n",
       "    <tr>\n",
       "      <th>4</th>\n",
       "      <td>0.0</td>\n",
       "      <td>0.5</td>\n",
       "      <td>0.0</td>\n",
       "      <td>0.2</td>\n",
       "      <td>0.0</td>\n",
       "      <td>0.0</td>\n",
       "      <td>0.0</td>\n",
       "      <td>1.0</td>\n",
       "    </tr>\n",
       "  </tbody>\n",
       "</table>\n",
       "</div>"
      ],
      "text/plain": [
       "   Fever  Cough  Headache  Tiredness  Night Sweat  Pneumonia  Flu  Cold\n",
       "0    0.0    0.5       0.0        0.0          0.0        0.0  0.0   1.0\n",
       "1    1.0    1.0       1.0        1.0          0.0        0.0  1.0   0.0\n",
       "2    0.5    1.0       0.0        1.0          1.0        1.0  0.0   0.0\n",
       "3    1.0    0.5       0.5        0.5          0.0        0.0  0.0   0.0\n",
       "4    0.0    0.5       0.0        0.2          0.0        0.0  0.0   1.0"
      ]
     },
     "execution_count": 9,
     "metadata": {},
     "output_type": "execute_result"
    }
   ],
   "source": [
    "input_data = pd.read_excel('diagnosis_input.xlsx')\n",
    "input_data.head()\n",
    "input_set = []\n",
    "for index, row in input_data.iterrows():\n",
    "    features = [row['Fever'], row['Cough'], row['Headache'], row['Tiredness'], row['Night Sweat']]\n",
    "    input_set.append(features)\n",
    "\n",
    "output_set = []\n",
    "for net_input in input_set:\n",
    "    net_output = perceptron.run(net_input)\n",
    "    output_set.append(net_output)\n",
    "    print(\"Input: \", net_input, \" Output: \", net_output)\n",
    "# Create a DataFrame for the output data\n",
    "\n",
    "header = list(data.columns)\n",
    "output_data = pd.DataFrame(columns=header)\n",
    "\n",
    "for i in range(len(input_set)):\n",
    "    row = input_set[i] + output_set[i]\n",
    "    output_data.loc[i] = row\n",
    "\n",
    "output_data.to_excel('diagnosis_output.xlsx', index=False)\n",
    "output_data\n",
    "\n"
   ]
  },
  {
   "cell_type": "markdown",
   "metadata": {
    "ExecuteTime": {
     "end_time": "2024-03-05T14:59:44.607749Z",
     "start_time": "2024-03-05T14:59:44.605949Z"
    },
    "collapsed": false
   },
   "source": [
    "### Mean squared error for the training set"
   ]
  },
  {
   "cell_type": "code",
   "execution_count": 10,
   "metadata": {},
   "outputs": [
    {
     "data": {
      "text/plain": [
       "0.0"
      ]
     },
     "execution_count": 10,
     "metadata": {},
     "output_type": "execute_result"
    }
   ],
   "source": [
    "mse = perceptron.calculate_mse()\n",
    "mse"
   ]
  },
  {
   "cell_type": "markdown",
   "metadata": {},
   "source": [
    "### Max error of a single neuron withing the complete training set"
   ]
  },
  {
   "cell_type": "code",
   "execution_count": 11,
   "metadata": {},
   "outputs": [
    {
     "data": {
      "text/plain": [
       "0"
      ]
     },
     "execution_count": 11,
     "metadata": {},
     "output_type": "execute_result"
    }
   ],
   "source": [
    "max = perceptron.calculate_max()\n",
    "max"
   ]
  }
 ],
 "metadata": {
  "kernelspec": {
   "display_name": "Python 3 (ipykernel)",
   "language": "python",
   "name": "python3"
  },
  "language_info": {
   "codemirror_mode": {
    "name": "ipython",
    "version": 3
   },
   "file_extension": ".py",
   "mimetype": "text/x-python",
   "name": "python",
   "nbconvert_exporter": "python",
   "pygments_lexer": "ipython3",
   "version": "3.12.0"
  }
 },
 "nbformat": 4,
 "nbformat_minor": 4
}
